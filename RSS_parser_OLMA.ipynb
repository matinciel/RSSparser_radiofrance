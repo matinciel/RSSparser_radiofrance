{
 "cells": [
  {
   "cell_type": "markdown",
   "id": "de70c4ce-3f91-4342-aeea-f8f6c58f7f60",
   "metadata": {},
   "source": [
    "Extract link from RadioFrance Podcast RSS Flux\n",
    "https://radiofrance-podcast.net/podcast09/rss_21770.xml"
   ]
  },
  {
   "cell_type": "code",
   "execution_count": 1,
   "id": "16412794-31da-45da-b76c-0f0ff4b3bfec",
   "metadata": {},
   "outputs": [
    {
     "name": "stdout",
     "output_type": "stream",
     "text": [
      "dict_keys(['title', 'title_detail', 'links', 'link', 'subtitle', 'subtitle_detail', 'language', 'rights', 'rights_detail', 'updated', 'updated_parsed', 'generator_detail', 'generator', 'image', 'authors', 'author', 'author_detail', 'tags', 'itunes_explicit', 'publisher_detail', 'summary', 'summary_detail', 'itunes_new-feed-url', 'pa_new-feed-url', 'podcastrf_originstation', 'googleplay_block'])\n"
     ]
    }
   ],
   "source": [
    "import feedparser\n",
    "\n",
    "#create an instance\n",
    "news_feed = feedparser.parse(r'https://radiofrance-podcast.net/podcast09/rss_21770.xml')\n",
    "\n",
    "#Check properties of the flux\n",
    "print(news_feed.feed.keys())"
   ]
  },
  {
   "cell_type": "code",
   "execution_count": 2,
   "id": "d8265a49-9ed4-44ab-be5c-c4ff48030edf",
   "metadata": {
    "collapsed": true,
    "jupyter": {
     "outputs_hidden": true
    },
    "tags": []
   },
   "outputs": [
    {
     "name": "stdout",
     "output_type": "stream",
     "text": [
      "1\n"
     ]
    }
   ],
   "source": [
    "#Check link\n",
    "print(news_feed.feed.podcastrf_originstation)"
   ]
  },
  {
   "cell_type": "code",
   "execution_count": 3,
   "id": "a2b479d7-91ef-45a0-b532-7433932398e0",
   "metadata": {
    "collapsed": true,
    "jupyter": {
     "outputs_hidden": true
    },
    "tags": []
   },
   "outputs": [
    {
     "ename": "AttributeError",
     "evalue": "object has no attribute 'key'",
     "output_type": "error",
     "traceback": [
      "\u001b[1;31m---------------------------------------------------------------------------\u001b[0m",
      "\u001b[1;31mKeyError\u001b[0m                                  Traceback (most recent call last)",
      "File \u001b[1;32mc:\\Users\\SESA216594\\Desktop\\Python Jupyter\\.venvjupyter\\Lib\\site-packages\\feedparser\\util.py:156\u001b[0m, in \u001b[0;36mFeedParserDict.__getattr__\u001b[1;34m(self, key)\u001b[0m\n\u001b[0;32m    155\u001b[0m \u001b[38;5;28;01mtry\u001b[39;00m:\n\u001b[1;32m--> 156\u001b[0m     \u001b[38;5;28;01mreturn\u001b[39;00m \u001b[38;5;28;43mself\u001b[39;49m\u001b[38;5;241;43m.\u001b[39;49m\u001b[38;5;21;43m__getitem__\u001b[39;49m\u001b[43m(\u001b[49m\u001b[43mkey\u001b[49m\u001b[43m)\u001b[49m\n\u001b[0;32m    157\u001b[0m \u001b[38;5;28;01mexcept\u001b[39;00m \u001b[38;5;167;01mKeyError\u001b[39;00m:\n",
      "File \u001b[1;32mc:\\Users\\SESA216594\\Desktop\\Python Jupyter\\.venvjupyter\\Lib\\site-packages\\feedparser\\util.py:113\u001b[0m, in \u001b[0;36mFeedParserDict.__getitem__\u001b[1;34m(self, key)\u001b[0m\n\u001b[0;32m    112\u001b[0m         \u001b[38;5;28;01mreturn\u001b[39;00m \u001b[38;5;28mdict\u001b[39m\u001b[38;5;241m.\u001b[39m\u001b[38;5;21m__getitem__\u001b[39m(\u001b[38;5;28mself\u001b[39m, realkey)\n\u001b[1;32m--> 113\u001b[0m \u001b[38;5;28;01mreturn\u001b[39;00m \u001b[38;5;28;43mdict\u001b[39;49m\u001b[38;5;241;43m.\u001b[39;49m\u001b[38;5;21;43m__getitem__\u001b[39;49m\u001b[43m(\u001b[49m\u001b[38;5;28;43mself\u001b[39;49m\u001b[43m,\u001b[49m\u001b[43m \u001b[49m\u001b[43mkey\u001b[49m\u001b[43m)\u001b[49m\n",
      "\u001b[1;31mKeyError\u001b[0m: 'key'",
      "\nDuring handling of the above exception, another exception occurred:\n",
      "\u001b[1;31mAttributeError\u001b[0m                            Traceback (most recent call last)",
      "Cell \u001b[1;32mIn[3], line 1\u001b[0m\n\u001b[1;32m----> 1\u001b[0m \u001b[38;5;28mprint\u001b[39m(\u001b[43mnews_feed\u001b[49m\u001b[38;5;241;43m.\u001b[39;49m\u001b[43mentries\u001b[49m\u001b[43m[\u001b[49m\u001b[38;5;241;43m0\u001b[39;49m\u001b[43m]\u001b[49m\u001b[38;5;241;43m.\u001b[39;49m\u001b[43mkey\u001b[49m)\n",
      "File \u001b[1;32mc:\\Users\\SESA216594\\Desktop\\Python Jupyter\\.venvjupyter\\Lib\\site-packages\\feedparser\\util.py:158\u001b[0m, in \u001b[0;36mFeedParserDict.__getattr__\u001b[1;34m(self, key)\u001b[0m\n\u001b[0;32m    156\u001b[0m     \u001b[38;5;28;01mreturn\u001b[39;00m \u001b[38;5;28mself\u001b[39m\u001b[38;5;241m.\u001b[39m\u001b[38;5;21m__getitem__\u001b[39m(key)\n\u001b[0;32m    157\u001b[0m \u001b[38;5;28;01mexcept\u001b[39;00m \u001b[38;5;167;01mKeyError\u001b[39;00m:\n\u001b[1;32m--> 158\u001b[0m     \u001b[38;5;28;01mraise\u001b[39;00m \u001b[38;5;167;01mAttributeError\u001b[39;00m(\u001b[38;5;124m\"\u001b[39m\u001b[38;5;124mobject has no attribute \u001b[39m\u001b[38;5;124m'\u001b[39m\u001b[38;5;132;01m%s\u001b[39;00m\u001b[38;5;124m'\u001b[39m\u001b[38;5;124m\"\u001b[39m \u001b[38;5;241m%\u001b[39m key)\n",
      "\u001b[1;31mAttributeError\u001b[0m: object has no attribute 'key'"
     ]
    }
   ],
   "source": [
    "print(news_feed.entries[0].key)"
   ]
  },
  {
   "cell_type": "code",
   "execution_count": 4,
   "id": "067ee6ca-b4d2-4f16-81ab-6bb856436c08",
   "metadata": {
    "collapsed": true,
    "jupyter": {
     "outputs_hidden": true
    },
    "tags": []
   },
   "outputs": [
    {
     "name": "stdout",
     "output_type": "stream",
     "text": [
      "dict_keys(['title', 'title_detail', 'links', 'link', 'summary', 'summary_detail', 'authors', 'author', 'author_detail', 'tags', 'id', 'guidislink', 'published', 'published_parsed', 'podcastrf_businessreference', 'podcastrf_magnetothequeid', 'itunes_title', 'image', 'itunes_explicit', 'subtitle', 'subtitle_detail', 'content', 'itunes_duration', 'googleplay_block'])\n"
     ]
    }
   ],
   "source": [
    "print(news_feed.entries[0].keys())"
   ]
  },
  {
   "cell_type": "markdown",
   "id": "a8ab8dae-0af3-4be3-96ae-c6b4f3620452",
   "metadata": {
    "tags": []
   },
   "source": [
    "Print key of each items in column"
   ]
  },
  {
   "cell_type": "code",
   "execution_count": 5,
   "id": "2a10643e-6759-4b70-9484-b83febb1271c",
   "metadata": {
    "collapsed": true,
    "jupyter": {
     "outputs_hidden": true
    },
    "tags": []
   },
   "outputs": [
    {
     "name": "stdout",
     "output_type": "stream",
     "text": [
      "title\n",
      "title_detail\n",
      "links\n",
      "link\n",
      "summary\n",
      "summary_detail\n",
      "authors\n",
      "author\n",
      "author_detail\n",
      "tags\n",
      "id\n",
      "guidislink\n",
      "published\n",
      "published_parsed\n",
      "podcastrf_businessreference\n",
      "podcastrf_magnetothequeid\n",
      "itunes_title\n",
      "image\n",
      "itunes_explicit\n",
      "subtitle\n",
      "subtitle_detail\n",
      "content\n",
      "itunes_duration\n",
      "googleplay_block\n"
     ]
    }
   ],
   "source": [
    "for key in news_feed.entries[0].keys():\n",
    "    print(f\"{key}\")"
   ]
  },
  {
   "cell_type": "markdown",
   "id": "520dd4a0-b264-45a4-9bea-2473a2094312",
   "metadata": {},
   "source": [
    "Details what is inside to find the right url"
   ]
  },
  {
   "cell_type": "code",
   "execution_count": 6,
   "id": "c65a2aa5-0f43-48f5-a253-cbd90aa97838",
   "metadata": {
    "collapsed": true,
    "jupyter": {
     "outputs_hidden": true
    },
    "tags": []
   },
   "outputs": [
    {
     "name": "stdout",
     "output_type": "stream",
     "text": [
      "title\n",
      "Episode 20 :  L’arbre de vie (Epilogue)\n",
      "title_detail\n",
      "{'type': 'text/plain', 'language': None, 'base': 'https://radiofrance-podcast.net/podcast09/rss_21770.xml', 'value': 'Episode 20\\xa0:  L’arbre de vie (Epilogue)'}\n",
      "links\n",
      "[{'rel': 'alternate', 'type': 'text/html', 'href': 'https://www.radiofrance.fr/franceinter/podcasts/olma/episode-20-l-arbre-de-vie-epilogue-7366106'}, {'length': '12071773', 'type': 'audio/mpeg', 'href': 'https://rf.proxycast.org/1440917b-b648-444f-b25a-825b17a582c1/21770-22.06.2022-ITEMA_23025708-2022F41789E0020-21.mp3', 'rel': 'enclosure'}]\n",
      "link\n",
      "https://www.radiofrance.fr/franceinter/podcasts/olma/episode-20-l-arbre-de-vie-epilogue-7366106\n",
      "summary\n",
      "durée : 00:12:32 - Olma - Fin de la mission d’Olma et Mathieu dans la forêt du Congo…\n",
      "summary_detail\n",
      "{'type': 'text/html', 'language': None, 'base': 'https://radiofrance-podcast.net/podcast09/rss_21770.xml', 'value': 'durée : 00:12:32 - Olma - Fin de la mission d’Olma et Mathieu dans la forêt du Congo…'}\n",
      "authors\n",
      "[{'name': 'Radio France', 'email': 'podcast@radiofrance.com'}, {'name': 'France Inter'}]\n",
      "author\n",
      "France Inter\n",
      "author_detail\n",
      "{'name': 'Radio France', 'email': 'podcast@radiofrance.com'}\n",
      "tags\n",
      "[{'term': 'Kids & Family', 'scheme': None, 'label': None}, {'term': 'Episode', 'scheme': 'http://www.itunes.com/', 'label': None}, {'term': '20\\xa0:', 'scheme': 'http://www.itunes.com/', 'label': None}, {'term': 'L’arbre', 'scheme': 'http://www.itunes.com/', 'label': None}, {'term': 'de', 'scheme': 'http://www.itunes.com/', 'label': None}, {'term': 'vie', 'scheme': 'http://www.itunes.com/', 'label': None}, {'term': '(Epilogue)', 'scheme': 'http://www.itunes.com/', 'label': None}]\n",
      "id\n",
      "1e850fa2-9daf-4ee5-a68a-3fe6b356b246\n",
      "guidislink\n",
      "False\n",
      "published\n",
      "Wed, 22 Jun 2022 10:00:04 +0200\n",
      "published_parsed\n",
      "time.struct_time(tm_year=2022, tm_mon=6, tm_mday=22, tm_hour=8, tm_min=0, tm_sec=4, tm_wday=2, tm_yday=173, tm_isdst=0)\n",
      "podcastrf_businessreference\n",
      "41789\n",
      "podcastrf_magnetothequeid\n",
      "2022F41789E0020\n",
      "itunes_title\n",
      "Episode 20 :  L’arbre de vie (Epilogue)\n",
      "image\n",
      "{'href': 'https://www.radiofrance.fr/s3/cruiser-production/2022/04/f1ebbf7d-2c11-4eca-a291-42e7a5a4738e/1400x1400_olma.jpg'}\n",
      "itunes_explicit\n",
      "None\n",
      "subtitle\n",
      "Episode 20 :  L’arbre de vie (Epilogue)\n",
      "subtitle_detail\n",
      "{'type': 'text/plain', 'language': None, 'base': 'https://radiofrance-podcast.net/podcast09/rss_21770.xml', 'value': 'Episode 20\\xa0:  L’arbre de vie (Epilogue)'}\n",
      "content\n",
      "[{'type': 'text/plain', 'language': None, 'base': 'https://radiofrance-podcast.net/podcast09/rss_21770.xml', 'value': 'durée : 00:12:32 - Olma - Fin de la mission d’Olma et Mathieu dans la forêt du Congo…'}]\n",
      "itunes_duration\n",
      "00:12:32\n",
      "googleplay_block\n",
      "yes\n"
     ]
    }
   ],
   "source": [
    "for key,value in news_feed.entries[0].items():\n",
    "    print(key)\n",
    "    print(value)\n",
    "    "
   ]
  },
  {
   "cell_type": "markdown",
   "id": "f56439fe-86c9-4fdc-98b7-a3930e429683",
   "metadata": {},
   "source": [
    "Example : \n",
    "links\n",
    "[{'rel': 'alternate', 'type': 'text/html', 'href': 'https://www.radiofrance.fr/franceinter/podcasts/les-odyssees/ramses-ii-8432538'}, {'length': '15317676', 'type': 'audio/mpeg', 'href': 'https://rf.proxycast.org/2b11debe-28c4-4883-88a8-eadd8f247d8e/20108-15.02.2023-ITEMA_23243409-2023F35387E0004-21.mp3', 'rel': 'enclosure'}]"
   ]
  },
  {
   "cell_type": "code",
   "execution_count": 7,
   "id": "05671acd-01ff-470f-a594-ba16281c9b1f",
   "metadata": {},
   "outputs": [
    {
     "name": "stdout",
     "output_type": "stream",
     "text": [
      "https://rf.proxycast.org/1440917b-b648-444f-b25a-825b17a582c1/21770-22.06.2022-ITEMA_23025708-2022F41789E0020-21.mp3\n"
     ]
    }
   ],
   "source": [
    "print(news_feed.entries[0]['links'][1]['href'])"
   ]
  },
  {
   "cell_type": "code",
   "execution_count": 8,
   "id": "4af31129-cf21-4ad6-a971-69f2eeee4e44",
   "metadata": {},
   "outputs": [
    {
     "name": "stdout",
     "output_type": "stream",
     "text": [
      "Episode 20 :  L’arbre de vie (Epilogue)\n"
     ]
    }
   ],
   "source": [
    "print(news_feed.entries[0]['title'])"
   ]
  },
  {
   "cell_type": "code",
   "execution_count": 9,
   "id": "60497113-d1b5-410e-b678-d83c864638cb",
   "metadata": {},
   "outputs": [],
   "source": [
    "results_link = []\n",
    "for i,entry in enumerate(news_feed.entries):\n",
    "    results_link.append(news_feed.entries[i]['title'])\n",
    "    results_link.append(news_feed.entries[i]['links'][1]['href'])"
   ]
  },
  {
   "cell_type": "code",
   "execution_count": 10,
   "id": "6a20c3c8-f4e2-4030-b844-0ea69eec9057",
   "metadata": {},
   "outputs": [
    {
     "name": "stdout",
     "output_type": "stream",
     "text": [
      "112\n"
     ]
    }
   ],
   "source": [
    "print(len(results_link))"
   ]
  },
  {
   "cell_type": "code",
   "execution_count": 20,
   "id": "f27b65e3-e912-4a99-87f8-1d38f9581f83",
   "metadata": {},
   "outputs": [
    {
     "data": {
      "text/plain": [
       "['Episode 20\\xa0:  L’arbre de vie (Epilogue)',\n",
       " 'https://rf.proxycast.org/1440917b-b648-444f-b25a-825b17a582c1/21770-22.06.2022-ITEMA_23025708-2022F41789E0020-21.mp3',\n",
       " 'Episode 19\\xa0: Paysans et guerriers',\n",
       " 'https://rf.proxycast.org/663e3148-2b33-43ab-8f34-4c6d7ba5c2be/21770-22.06.2022-ITEMA_23025708-2022F41789E0019-21.mp3',\n",
       " 'Episode 18\\xa0: L’art dans les grottes préhistoriques',\n",
       " 'https://rf.proxycast.org/92b583a9-dd0e-47a6-90c1-b176f784b1b3/21770-22.06.2022-ITEMA_23025708-2022F41789E0018-21.mp3',\n",
       " 'Episode 17: Les chasseurs cueilleurs',\n",
       " 'https://rf.proxycast.org/91f5e5e1-de73-4327-8ac8-492b49be1570/21770-22.06.2022-ITEMA_23025708-2022F41789E0017-21.mp3',\n",
       " 'Episode 16\\xa0: La Préhistoire qu’est-ce que c’est\\xa0?',\n",
       " 'https://rf.proxycast.org/0d9fd296-87ad-4e4f-9790-c1aafb945891/21770-22.06.2022-ITEMA_23025708-2022F41789E0016-21.mp3',\n",
       " 'Episode 15 : Homo Sapiens',\n",
       " 'https://rf.proxycast.org/784177d4-d0a0-42a9-9bf7-5d5b71dd17b6/21770-06.04.2022-ITEMA_22977412-2022F41789E0015-21.mp3',\n",
       " 'Episode 14 : Neandertal',\n",
       " 'https://rf.proxycast.org/f1406d05-9463-4c2c-bfa0-3ac7ad0fb5f8/21770-06.04.2022-ITEMA_22977412-2022F41789E0014-21.mp3',\n",
       " 'Episode 13 : Les premiers hommes à la conquête du monde',\n",
       " 'https://rf.proxycast.org/827fc2f8-a106-4058-b934-0c12e14a648c/21770-06.04.2022-ITEMA_22977412-2022F41789E0013-21.mp3',\n",
       " 'Episode 12 : Lucy, la star des australopithèques',\n",
       " 'https://rf.proxycast.org/60866021-d9fc-4063-8e03-d382a4727bd5/21770-06.04.2022-ITEMA_22977412-2022F41789E0012-21.mp3',\n",
       " 'Episode 11 : Sur les traces des premiers ancêtres humains',\n",
       " 'https://rf.proxycast.org/56ca4781-6a38-4fec-8837-5855dcc2eb2c/21770-06.04.2022-ITEMA_22977412-2022F41789E0011-21.mp3',\n",
       " 'Episode 6 : Nos cousins les grands singes',\n",
       " 'https://rf.proxycast.org/74afd9f3-a409-46fb-98ad-7b3e91a4037d/21770-02.02.2022-ITEMA_22910678-2022F41789E0006-21.mp3',\n",
       " 'Episode 7 : Les chimpanzés',\n",
       " 'https://rf.proxycast.org/fc3fa550-1376-40e6-bf1d-14f513e725eb/21770-02.02.2022-ITEMA_22910678-2022F41789E0007-21.mp3',\n",
       " 'Episode 8 : Les gorilles',\n",
       " 'https://rf.proxycast.org/6ec07b22-412e-4c29-967e-04304a33e7fe/21770-02.02.2022-ITEMA_22910678-2022F41789E0008-21.mp3',\n",
       " 'Episode 9 : Les bonobos',\n",
       " 'https://rf.proxycast.org/c125b90f-c970-4797-a44f-3a58b2a02ad8/21770-02.02.2022-ITEMA_22910678-2022F41789E0009-21.mp3',\n",
       " 'Episode 10 : La communication chez les grands singes',\n",
       " 'https://rf.proxycast.org/68dc5dc4-2deb-4df9-9891-84796e023162/21770-02.02.2022-ITEMA_22910678-2022F41789E0010-21.mp3',\n",
       " 'Episode 5 : Dans la peau de l’arbre',\n",
       " 'https://rf.proxycast.org/10ef4605-44bc-4485-bb87-96a452315737/21770-01.12.2021-ITEMA_22850640-2021F41789E0038-21.mp3',\n",
       " 'Episode 4 : La vie d’un arbre',\n",
       " 'https://rf.proxycast.org/9e43f488-0c79-4197-9d16-793cd1b41c85/21770-01.12.2021-ITEMA_22850640-2021F41789E0037-21.mp3',\n",
       " 'Episode 3 : La forêt et les hommes',\n",
       " 'https://rf.proxycast.org/02a4605a-e60a-45b3-b3fe-827acff045fc/21770-01.12.2021-ITEMA_22850640-2021F41789E0036-21.mp3',\n",
       " 'Episode 2 : Au cœur de la forêt du Congo',\n",
       " 'https://rf.proxycast.org/19c7136a-54b9-4b24-ace7-1097497f5c9a/21770-01.12.2021-ITEMA_22850640-2021F41789E0035-21.mp3',\n",
       " 'Episode 1 : Opération Canopée',\n",
       " 'https://rf.proxycast.org/6fb0c056-ad2a-4df2-b42c-a4b7e3311547/21770-01.12.2021-ITEMA_22850640-2021F41789E0034-21.mp3',\n",
       " 'Fin de la mission à la banque de la vie',\n",
       " 'https://rf.proxycast.org/a3c90f72-90c5-45f7-aae5-9752981ffa5f/21770-25.08.2021-ITEMA_22754564-2021F41789E0033-21.mp3',\n",
       " 'Episode 32  : Jamy au Svalbard',\n",
       " 'https://rf.proxycast.org/9e507aaf-e3ba-4367-901b-dd41465938c9/21770-28.07.2021-ITEMA_22736076-2021F41789E0032-21.mp3',\n",
       " 'Episode 31 : La vie intraterrestre',\n",
       " 'https://rf.proxycast.org/83c6dfbc-7d47-423b-bc25-8872b2d0a3ef/21770-21.07.2021-ITEMA_22730871-2021F41789E0031-21.mp3',\n",
       " 'Episode 30 : Comment poussent les plantes ?',\n",
       " 'https://rf.proxycast.org/0dcc4a14-595f-4e59-b36c-02f25456be2b/21770-14.07.2021-ITEMA_22726015-2021F41789E0030-21.mp3',\n",
       " 'Episode 29 : Les microbes',\n",
       " 'https://rf.proxycast.org/4d32c7e7-eaee-449b-b3b4-5a37533a4153/21770-30.06.2021-ITEMA_22716172-2021F41789E0029-21.mp3',\n",
       " 'Episode 28 : Les premiers êtres vivants',\n",
       " 'https://rf.proxycast.org/af459b00-0241-4652-a2d2-eef1a5038d51/21770-16.06.2021-ITEMA_22702035-2021F41789E0028-21.mp3',\n",
       " 'Episode 27 : Les origines de la vie',\n",
       " 'https://rf.proxycast.org/2deb9e77-0f66-47b3-99aa-e4d8568594a8/21770-02.06.2021-ITEMA_22687800-2021F41789E0027-21.mp3',\n",
       " 'Episode 26 : Les céphalopodes',\n",
       " 'https://rf.proxycast.org/e897a4c6-e65f-4216-97f4-593d0d04ae69/21770-19.05.2021-ITEMA_22674453-2021F41789E0026-21.mp3',\n",
       " 'Episode 25 : Les abysses',\n",
       " 'https://rf.proxycast.org/8713f5e4-c9cf-40ab-a505-24e3d2ec39f5/21770-05.05.2021-ITEMA_22657381-2021F41789E0025-21.mp3',\n",
       " 'Episode 24 : Les ours blancs',\n",
       " 'https://rf.proxycast.org/9feefdd7-3dcd-486c-9157-dadce627bc34/21770-21.04.2021-ITEMA_22642854-2021F41789E0024-21.mp3',\n",
       " 'Episode 23 - Le plancton',\n",
       " 'https://rf.proxycast.org/ed752c1d-1796-470b-a16f-c89712c4eb7c/21770-07.04.2021-ITEMA_22628639-2021F41789E0023-21.mp3',\n",
       " 'Episode 22 : les baleines',\n",
       " 'https://rf.proxycast.org/699da16f-55eb-4d8b-b75d-ce2b4e892489/21770-24.03.2021-ITEMA_22614116-2021F41789E0022-21.mp3',\n",
       " 'Episode21 : La Méditerranée',\n",
       " 'https://rf.proxycast.org/e3fe4a2e-59dd-4b6d-884f-3d4ae458b0b5/21770-10.03.2021-ITEMA_22598950-2021F41789E0021-21.mp3',\n",
       " 'Episode 20 : Plongée sous la banquise',\n",
       " 'https://rf.proxycast.org/54f73609-7b35-4123-b729-0f44f9b7e9bb/21770-24.02.2021-ITEMA_22584165-2021F41789E0020-21.mp3',\n",
       " 'Episode 19 : Le climat et son réchauffement',\n",
       " 'https://rf.proxycast.org/660cd477-5e7c-4178-8ae0-c2b81d2605ff/21770-17.02.2021-ITEMA_22577047-2021F41789E0019-21.mp3',\n",
       " 'Episode 18 : Les volcans',\n",
       " 'https://rf.proxycast.org/b823019a-f455-466a-835d-229bea86e29c/21770-10.02.2021-ITEMA_22569795-2021F41789E0018-21.mp3',\n",
       " \"Episode 17 : l'atmosphère\",\n",
       " 'https://rf.proxycast.org/e1ddee7b-db4c-4b3e-a1e3-499bf5b2dc1a/21770-03.02.2021-ITEMA_22562699-2021F41789E0017-21.mp3',\n",
       " 'Episode 16 : les séismes',\n",
       " 'https://rf.proxycast.org/659c9517-072c-4ee3-93af-0292f140982e/21770-27.01.2021-ITEMA_22555465-2021F41789E0016-21.mp3',\n",
       " 'Episode 15 : la tectonique des plaques',\n",
       " 'https://rf.proxycast.org/ad185567-e1ad-4ea9-ba39-23640729b2c4/21770-20.01.2021-ITEMA_22548181-2021F41789E0015-21.mp3',\n",
       " 'Episode 14 : Le centre de la terre',\n",
       " 'https://rf.proxycast.org/a7d06814-f95e-4f3e-bb15-b27e2393a195/21770-13.01.2021-ITEMA_22541242-2021F41789E0014-21.mp3',\n",
       " 'Episode 13 : les pôles',\n",
       " 'https://rf.proxycast.org/677b2604-327c-4361-8a14-f6aa6ac519e3/21770-06.01.2021-ITEMA_22533606-2020F41789E0013-21.mp3',\n",
       " 'Episode 12 : La formation de la Terre',\n",
       " 'https://rf.proxycast.org/66a88a59-527d-4fb9-ae44-920fd701b8b6/21770-23.12.2020-ITEMA_22522301-2020F41789E0012-21.mp3',\n",
       " 'Episode 11 : Astéroïdes, comètes, météorites',\n",
       " 'https://rf.proxycast.org/c0c2af00-f23c-471f-b06d-f9c7fa3c758d/21770-16.12.2020-ITEMA_22516450-2020F41789E0011-21.mp3',\n",
       " 'Episode 10 : Qui était Albert Einstein?',\n",
       " 'https://rf.proxycast.org/d1b67223-28de-402a-812a-09945062a0ef/21770-09.12.2020-ITEMA_22508957-2020F41789E0010-21.mp3',\n",
       " \"Episode 9 : l'histoire de l'univers\",\n",
       " 'https://rf.proxycast.org/da48f79e-1dc9-4f8c-904f-a9cc47695aed/21770-02.12.2020-ITEMA_22501907-2020F41789E0009-21.mp3',\n",
       " 'Episode 8 : Le soleil',\n",
       " 'https://rf.proxycast.org/fb5e95fd-fee6-4d63-a573-15d117e576e2/21770-25.11.2020-ITEMA_22494843-2020F41789E0008-21.mp3',\n",
       " 'Episode 7 : Les trous noirs',\n",
       " 'https://rf.proxycast.org/d366aff1-831e-43ff-abb3-5ce32194b767/21770-18.11.2020-ITEMA_22487737-2020F41789E0007-21.mp3',\n",
       " 'Episode 6 : Les galaxies',\n",
       " 'https://rf.proxycast.org/f39b5b5e-2ca9-4577-bea5-b130258b3867/21770-11.11.2020-ITEMA_22480634-2020F41789E0006-21.mp3',\n",
       " 'Episode 5 : Les atomes',\n",
       " 'https://rf.proxycast.org/c6d7e795-9c20-4d28-99f4-2abbec1dd747/21770-04.11.2020-ITEMA_22473874-2020F41789E0005-21.mp3',\n",
       " 'Episode 4 : les étoiles',\n",
       " 'https://rf.proxycast.org/1389f334-abfb-43df-912a-1a8db35524e7/21770-28.10.2020-ITEMA_22467787-2020F41789E0004-21.mp3',\n",
       " 'Episode 3 : La lune',\n",
       " 'https://rf.proxycast.org/255a1e72-03a5-454e-a606-cf7f5296b568/21770-21.10.2020-ITEMA_22461694-2020F41789E0003-21.mp3',\n",
       " \"Episode 2 : La vie dans l'univers\",\n",
       " 'https://rf.proxycast.org/a2f155c5-a3f5-4777-967a-e62f8434af24/21770-14.10.2020-ITEMA_22455451-2020F41789E0002-21.mp3',\n",
       " 'Episode 1 : Le système solaire',\n",
       " 'https://rf.proxycast.org/f5c21424-5580-4c46-a168-7adc5ee881fb/21770-06.10.2020-ITEMA_22447947-2020F41789E0001-21.mp3',\n",
       " 'Bienvenue au Svalbard !',\n",
       " 'https://rf.proxycast.org/efcc0222-4f18-40b0-86f7-f6edd2b00805/21770-06.10.2020-ITEMA_22447947-2020F41789E2000-21.mp3',\n",
       " 'Olma, le teaser',\n",
       " 'https://rf.proxycast.org/470f1b5b-e2d9-4a5e-a90b-dd95cc05651d/21770-01.10.2020-ITEMA_22443605-2020F41789E1000-21.mp3',\n",
       " 'Retrouvez tous les épisodes sur l’appli Radio France',\n",
       " 'https://media.radiofrance-podcast.net/podcast09/22452-07.07.2021-ITEMA_22721876-2021X45038E0002.mp3']"
      ]
     },
     "execution_count": 20,
     "metadata": {},
     "output_type": "execute_result"
    }
   ],
   "source": [
    "results_link[0:112]"
   ]
  },
  {
   "cell_type": "markdown",
   "id": "f4b7c065-b3bd-4c6e-8e71-adfa31b38490",
   "metadata": {},
   "source": [
    "# Donwload"
   ]
  },
  {
   "cell_type": "code",
   "execution_count": 12,
   "id": "4e405e08-aeb7-42e9-b021-ffdb162dc41b",
   "metadata": {},
   "outputs": [],
   "source": [
    "import requests\n",
    "import os"
   ]
  },
  {
   "cell_type": "code",
   "execution_count": 13,
   "id": "9d247040-389b-4295-9834-8d10b23afdb3",
   "metadata": {},
   "outputs": [
    {
     "data": {
      "text/plain": [
       "'c:\\\\Users\\\\SESA216594\\\\Desktop\\\\Python Jupyter'"
      ]
     },
     "execution_count": 13,
     "metadata": {},
     "output_type": "execute_result"
    }
   ],
   "source": [
    "os.getcwd()"
   ]
  },
  {
   "cell_type": "markdown",
   "id": "da8dd81f-fa41-41c7-959d-3525dd5f5f50",
   "metadata": {},
   "source": [
    "Check that : in title is making an issue ?\n",
    "eg. Rosalind Franklin  => title Rosalind Franklin : la femme qui a découvert le secret de l'ADN\n",
    "\n",
    "REPLACE all not ok character in the title string."
   ]
  },
  {
   "cell_type": "code",
   "execution_count": 15,
   "id": "a0cd7b8b-5d68-4e31-8cc4-399961203d78",
   "metadata": {
    "tags": []
   },
   "outputs": [
    {
     "name": "stdout",
     "output_type": "stream",
     "text": [
      "start\n",
      "downloaded item 0\n",
      "downloaded item 2\n",
      "downloaded item 4\n",
      "downloaded item 6\n",
      "downloaded item 8\n",
      "downloaded item 10\n",
      "downloaded item 12\n",
      "downloaded item 14\n",
      "downloaded item 16\n",
      "downloaded item 18\n",
      "downloaded item 20\n",
      "downloaded item 22\n",
      "downloaded item 24\n",
      "downloaded item 26\n",
      "downloaded item 28\n",
      "downloaded item 30\n",
      "downloaded item 32\n",
      "downloaded item 34\n",
      "downloaded item 36\n",
      "downloaded item 38\n",
      "downloaded item 40\n",
      "downloaded item 42\n",
      "downloaded item 44\n",
      "downloaded item 46\n",
      "downloaded item 48\n",
      "downloaded item 50\n",
      "downloaded item 52\n",
      "downloaded item 54\n",
      "downloaded item 56\n",
      "downloaded item 58\n",
      "downloaded item 60\n",
      "downloaded item 62\n",
      "downloaded item 64\n",
      "downloaded item 66\n",
      "downloaded item 68\n",
      "downloaded item 70\n",
      "downloaded item 72\n",
      "downloaded item 74\n",
      "downloaded item 76\n",
      "downloaded item 78\n",
      "downloaded item 80\n",
      "downloaded item 82\n",
      "downloaded item 84\n",
      "downloaded item 86\n",
      "downloaded item 88\n",
      "downloaded item 90\n",
      "downloaded item 92\n",
      "downloaded item 94\n",
      "downloaded item 96\n",
      "downloaded item 98\n",
      "downloaded item 100\n",
      "downloaded item 102\n",
      "downloaded item 104\n",
      "downloaded item 106\n",
      "downloaded item 108\n",
      "downloaded item 110\n",
      "end\n"
     ]
    }
   ],
   "source": [
    "print('start')\n",
    "for i in range(0,len(results_link),2):\n",
    "    name = results_link[i]\n",
    "    url = results_link[i+1]\n",
    "    r = requests.get(url, allow_redirects=True)\n",
    "    \n",
    "    #make the file name valid for windows user removing not alphanum character except \"dot\" and \"_\" underscore\n",
    "    validname = \"\".join( x for x in name if (x.isalnum() or x in \"._- \"))\n",
    "    \n",
    "    open(validname +'.mp3', 'wb').write(r.content)\n",
    "    print(f'downloaded item {i}')\n",
    "    \n",
    "print('end')\n",
    "    "
   ]
  },
  {
   "cell_type": "code",
   "execution_count": 8,
   "id": "9b9ed0b3-6ce0-46f1-b6a3-69acec01ae76",
   "metadata": {},
   "outputs": [
    {
     "name": "stdout",
     "output_type": "stream",
     "text": [
      "6\n",
      "8\n",
      "10\n",
      "12\n",
      "14\n",
      "16\n",
      "18\n"
     ]
    }
   ],
   "source": [
    "for i in range(6,20,2):\n",
    "    print(i)"
   ]
  },
  {
   "cell_type": "code",
   "execution_count": 11,
   "id": "a869b9f4-7dc4-4edf-9159-c962ad52fb53",
   "metadata": {},
   "outputs": [],
   "source": [
    "A = 'test'\n",
    "pre, ext = os.path.splitext(A)\n",
    "B = os.rename(pre,'test' + \".mp3\")\n"
   ]
  },
  {
   "cell_type": "markdown",
   "id": "129115ff-91df-4396-9d2c-817595105f86",
   "metadata": {},
   "source": [
    "Make the name a valide windows filenmae"
   ]
  },
  {
   "cell_type": "code",
   "execution_count": 8,
   "id": "15137b94-9c2e-4896-922b-c28fa6ec7b69",
   "metadata": {},
   "outputs": [
    {
     "name": "stdout",
     "output_type": "stream",
     "text": [
      "start\n",
      "Ramsès II\n",
      "Helen Keller\n",
      "La découverte de la grotte Cosquer\n",
      "Ching Shih la pirate chinoise\n",
      "Ramsès II raconté par Laure Grandbesançon\n",
      "Henri Guillaumet  héros de laéropostale\n",
      "Joséphine Baker\n",
      "À la recherche du monstre des profondeurs\n",
      "Elliot Ness contre Al Capone\n",
      "Vercingétorix contre César\n",
      "Rosalind Franklin la femme qui a découvert le secret de lADN\n",
      "Percy Fawcett et La mystérieuse cité de Z épisode 2\n",
      "Percy Fawcett et la mystérieuse cité de Z Episode 1\n",
      "Aladin et le sorcier maléfique\n",
      "Les 1001 nuits 44  Les trois princes amoureux\n",
      "Les 1001 nuits 34  Les  incroyables aventures de Sindbad le marin\n",
      "Aladin et le sorcier maléfique\n",
      "Les 1001 nuits 14  Shéhérazade conteuse de génie\n",
      "Yasuké le premier samouraï noir de lHistoire\n",
      "Laskarina Bouboulina héroïne de la résistance grecque\n",
      "Qui est Ötzi la momie des glaces\n",
      "Les Odyssées du Louvre 1515  Les Odyssées du Louvre Enquête autour de la fascinante Vénus de Milo\n",
      "Les Odyssées du Louvre 1415  Les Odyssées du Louvre  Eugène Delacroix grand peintre romantique\n",
      "Les Odyssées du Louvre 1315  Les Odyssées du Louvre  Champollion le génial déchiffreur des hiéroglyphes\n",
      "Les Odyssées du Louvre 1215  Les Odyssées du Louvre  Enheduanna première poétesse de lHistoire\n",
      "Les Odyssées du Louvre 1115  Les Odyssées du Louvre  Richelieu Le cardinal à la main de fer\n",
      "Les Odyssées sont de retour le 21 avril\n",
      "La puissante fée Morgane demi-soeur du valeureux roi Arthur\n",
      "LErebus et le Terror deux navires disparus dans les glaces de lArctique\n",
      "Lorsque la Résistance réussit le casse du siècle\n",
      "Lincroyable tour du monde de Nellie Bly\n",
      "Molière  naissance dun acteur Ep.1\n",
      "Molière  le plus fabuleux des auteurs  Ep.2\n",
      "Lady Stanhope une grande aventurière dans le désert du Liban\n",
      "Frida Kahlo  peindre la vie pour oublier la douleur\n",
      "Sitting Bull  le dernier indien libre des plaines\n",
      "Spartacus  lesclave qui fit trembler Rome\n",
      "Enquête sur les traces de Lucie le fantôme du château de Veauce\n",
      "Maurice et Katia Krafft  La passion des volcans épisode  2\n",
      "Maurice et Katia Krafft  La passion des volcans épisode 1\n",
      "A la recherche de David Livingstone\n",
      "Victorine Brocher héroïne de la Commune\n",
      "Jeanne Barret  la première femme qui a fait le tour du monde\n",
      "Les évadés dAlcatraz\n",
      "LIliade et lOdyssée 66  Les origines de la guerre de Troie\n",
      "LIliade et lOdyssée 56  Achille dépose les armes\n",
      "LIliade et lOdyssée 46  Achille retourne au combat\n",
      "LIliade et lOdyssée 36  Ulysse et Calypso\n",
      "LIliade et lOdyssée 26  Ulysse et le terrible cyclope\n",
      "LIliade et lOdyssée 16  Ulysse Circé et les sirènes\n",
      "Lincroyable vie dAlice Guy la première réalisatrice de cinéma de lhistoire\n",
      "Orson Welles et la guerre des Mondes  a-t-il vraiment fait paniquer lAmérique \n",
      "Plongée dans les abysses  le sous-marin Alvin découvre les sources hydrothermales\n",
      "Napoléon Ép1  à la conquête du pouvoir\n",
      "Napoléon Épisode 2 lEmpire\n",
      "Le Ballon de la liberté\n",
      "Jeanne dArc épisode 1  la jeune fille qui entendait des voix\n",
      "Jeanne dArc épisode 2  la pucelle chasse les Anglais hors de France\n",
      "La découverte du tombeau de Gengis Khan\n",
      "Mary Anning la chasseuse de fossiles\n",
      "Les Odyssées du Louvre 915  Les Odyssées du Louvre  Michel-Ange lartiste qui voulait repousser les limites\n",
      "Les Odyssées du Louvre 615  Les Odyssées du Louvre  Henri IV roi de France et de Navarre\n",
      "Les Odyssées du Louvre 715  Les Odyssées du Louvre  Jacques Jaujard le sauveur du Louvre\n",
      "Les Odyssées du Louvre 1015  Les Odyssées du Louvre  Marie de Médicis reine de France\n",
      "Les Odyssées du Louvre 815  Les Odyssées du Louvre  Pazuzu le roi des démons de lempire assyrien\n",
      "end\n"
     ]
    }
   ],
   "source": [
    "print('start')\n",
    "for i in range(0,130,2):\n",
    "    name = results_link[i]\n",
    "    validname = \"\".join( x for x in name if (x.isalnum() or x in \"._- \"))\n",
    "    print(validname)\n",
    "    \n",
    "print('end')\n"
   ]
  },
  {
   "cell_type": "code",
   "execution_count": null,
   "id": "7cff73cc-0f40-4fe1-83a3-8e6bc7d2ce43",
   "metadata": {},
   "outputs": [],
   "source": []
  }
 ],
 "metadata": {
  "kernelspec": {
   "display_name": "Python 3 (ipykernel)",
   "language": "python",
   "name": "python3"
  },
  "language_info": {
   "codemirror_mode": {
    "name": "ipython",
    "version": 3
   },
   "file_extension": ".py",
   "mimetype": "text/x-python",
   "name": "python",
   "nbconvert_exporter": "python",
   "pygments_lexer": "ipython3",
   "version": "3.12.3"
  }
 },
 "nbformat": 4,
 "nbformat_minor": 5
}
