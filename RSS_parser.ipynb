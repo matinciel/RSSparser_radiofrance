{
 "cells": [
  {
   "cell_type": "markdown",
   "id": "de70c4ce-3f91-4342-aeea-f8f6c58f7f60",
   "metadata": {},
   "source": [
    "Extract link from RadioFrance Podcast RSS Flux\n",
    "https://radiofrance-podcast.net/podcast09/rss_20108.xml"
   ]
  },
  {
   "cell_type": "code",
   "execution_count": 2,
   "id": "16412794-31da-45da-b76c-0f0ff4b3bfec",
   "metadata": {},
   "outputs": [
    {
     "name": "stdout",
     "output_type": "stream",
     "text": [
      "dict_keys(['title', 'title_detail', 'links', 'link', 'subtitle', 'subtitle_detail', 'language', 'rights', 'rights_detail', 'updated', 'updated_parsed', 'generator_detail', 'generator', 'image', 'authors', 'author', 'author_detail', 'tags', 'itunes_explicit', 'publisher_detail', 'summary', 'summary_detail', 'itunes_new-feed-url', 'pa_new-feed-url', 'podcastrf_originstation', 'googleplay_block'])\n"
     ]
    }
   ],
   "source": [
    "import feedparser\n",
    "\n",
    "#create an instance\n",
    "news_feed = feedparser.parse(r'https://radiofrance-podcast.net/podcast09/rss_20108.xml')\n",
    "\n",
    "#Check properties of the flux\n",
    "print(news_feed.feed.keys())"
   ]
  },
  {
   "cell_type": "code",
   "execution_count": 7,
   "id": "d8265a49-9ed4-44ab-be5c-c4ff48030edf",
   "metadata": {
    "collapsed": true,
    "jupyter": {
     "outputs_hidden": true
    },
    "tags": []
   },
   "outputs": [
    {
     "name": "stdout",
     "output_type": "stream",
     "text": [
      "1\n"
     ]
    }
   ],
   "source": [
    "#Check link\n",
    "print(news_feed.feed.podcastrf_originstation)"
   ]
  },
  {
   "cell_type": "code",
   "execution_count": 19,
   "id": "a2b479d7-91ef-45a0-b532-7433932398e0",
   "metadata": {
    "collapsed": true,
    "jupyter": {
     "outputs_hidden": true
    },
    "tags": []
   },
   "outputs": [
    {
     "name": "stdout",
     "output_type": "stream",
     "text": [
      "{'title': 'Ramsès II', 'title_detail': {'type': 'text/plain', 'language': None, 'base': 'https://radiofrance-podcast.net/podcast09/rss_20108.xml', 'value': 'Ramsès II'}, 'links': [{'rel': 'alternate', 'type': 'text/html', 'href': 'https://www.radiofrance.fr/franceinter/podcasts/les-odyssees/ramses-ii-8432538'}, {'length': '15317676', 'type': 'audio/mpeg', 'href': 'https://rf.proxycast.org/2b11debe-28c4-4883-88a8-eadd8f247d8e/20108-15.02.2023-ITEMA_23243409-2023F35387E0004-21.mp3', 'rel': 'enclosure'}], 'link': 'https://www.radiofrance.fr/franceinter/podcasts/les-odyssees/ramses-ii-8432538', 'summary': 'durée : 00:15:55 - Les Odyssées - par : Laure Grandbesançon. - Pharaon célèbre et adulé, Ramsès II est réputé pour ses victoires militaires et la construction de nombreux temples et statues... Et ça, partout en Egypte\\xa0! Découvre les incroyables aventures du pharaon le plus connu du monde\\xa0!', 'summary_detail': {'type': 'text/html', 'language': None, 'base': 'https://radiofrance-podcast.net/podcast09/rss_20108.xml', 'value': 'durée : 00:15:55 - Les Odyssées - par : Laure Grandbesançon. - Pharaon célèbre et adulé, Ramsès II est réputé pour ses victoires militaires et la construction de nombreux temples et statues... Et ça, partout en Egypte\\xa0! Découvre les incroyables aventures du pharaon le plus connu du monde\\xa0!'}, 'authors': [{'name': 'Radio France', 'email': 'podcast@radiofrance.com'}, {'name': 'Laure Grandbesançon.'}], 'author': 'Laure Grandbesançon.', 'author_detail': {'name': 'Radio France', 'email': 'podcast@radiofrance.com'}, 'tags': [{'term': 'Society & Culture', 'scheme': None, 'label': None}, {'term': 'Ramsès', 'scheme': 'http://www.itunes.com/', 'label': None}, {'term': 'II', 'scheme': 'http://www.itunes.com/', 'label': None}], 'id': 'c75996f8-be81-4bb2-82a8-03a529ef8110', 'guidislink': False, 'published': 'Wed, 15 Feb 2023 09:00:03 +0100', 'published_parsed': time.struct_time(tm_year=2023, tm_mon=2, tm_mday=15, tm_hour=8, tm_min=0, tm_sec=3, tm_wday=2, tm_yday=46, tm_isdst=0), 'podcastrf_businessreference': '35387', 'podcastrf_magnetothequeid': '2023F35387E0004', 'itunes_title': 'Ramsès II', 'image': {'href': 'https://www.radiofrance.fr/s3/cruiser-production/2019/07/9d4f9d47-679b-4546-8d26-c768ab84dc62/1400x1400_rf_omm_0000022609_ite.jpg'}, 'itunes_explicit': None, 'subtitle': 'Ramsès II', 'subtitle_detail': {'type': 'text/plain', 'language': None, 'base': 'https://radiofrance-podcast.net/podcast09/rss_20108.xml', 'value': 'Ramsès II'}, 'content': [{'type': 'text/plain', 'language': None, 'base': 'https://radiofrance-podcast.net/podcast09/rss_20108.xml', 'value': 'durée : 00:15:55 - Les Odyssées - par : Laure Grandbesançon. - Pharaon célèbre et adulé, Ramsès II est réputé pour ses victoires militaires et la construction de nombreux temples et statues... Et ça, partout en Egypte\\xa0! Découvre les incroyables aventures du pharaon le plus connu du monde\\xa0!'}], 'itunes_duration': '00:15:55', 'googleplay_block': 'yes'}\n"
     ]
    }
   ],
   "source": [
    "print(news_feed.entries[0].key)"
   ]
  },
  {
   "cell_type": "code",
   "execution_count": 18,
   "id": "067ee6ca-b4d2-4f16-81ab-6bb856436c08",
   "metadata": {
    "collapsed": true,
    "jupyter": {
     "outputs_hidden": true
    },
    "tags": []
   },
   "outputs": [
    {
     "name": "stdout",
     "output_type": "stream",
     "text": [
      "dict_keys(['title', 'title_detail', 'links', 'link', 'summary', 'summary_detail', 'authors', 'author', 'author_detail', 'tags', 'id', 'guidislink', 'published', 'published_parsed', 'podcastrf_businessreference', 'podcastrf_magnetothequeid', 'itunes_title', 'image', 'itunes_explicit', 'subtitle', 'subtitle_detail', 'content', 'itunes_duration', 'googleplay_block'])\n"
     ]
    }
   ],
   "source": [
    "print(news_feed.entries[0].keys())"
   ]
  },
  {
   "cell_type": "markdown",
   "id": "a8ab8dae-0af3-4be3-96ae-c6b4f3620452",
   "metadata": {
    "tags": []
   },
   "source": [
    "Print key of each items in column"
   ]
  },
  {
   "cell_type": "code",
   "execution_count": 26,
   "id": "2a10643e-6759-4b70-9484-b83febb1271c",
   "metadata": {
    "collapsed": true,
    "jupyter": {
     "outputs_hidden": true
    },
    "tags": []
   },
   "outputs": [
    {
     "name": "stdout",
     "output_type": "stream",
     "text": [
      "title\n",
      "title_detail\n",
      "links\n",
      "link\n",
      "summary\n",
      "summary_detail\n",
      "authors\n",
      "author\n",
      "author_detail\n",
      "tags\n",
      "id\n",
      "guidislink\n",
      "published\n",
      "published_parsed\n",
      "podcastrf_businessreference\n",
      "podcastrf_magnetothequeid\n",
      "itunes_title\n",
      "image\n",
      "itunes_explicit\n",
      "subtitle\n",
      "subtitle_detail\n",
      "content\n",
      "itunes_duration\n",
      "googleplay_block\n"
     ]
    }
   ],
   "source": [
    "for key in news_feed.entries[0].keys():\n",
    "    print(f\"{key}\")"
   ]
  },
  {
   "cell_type": "markdown",
   "id": "520dd4a0-b264-45a4-9bea-2473a2094312",
   "metadata": {},
   "source": [
    "Details what is inside to find the right url"
   ]
  },
  {
   "cell_type": "code",
   "execution_count": 32,
   "id": "c65a2aa5-0f43-48f5-a253-cbd90aa97838",
   "metadata": {
    "collapsed": true,
    "jupyter": {
     "outputs_hidden": true
    },
    "tags": []
   },
   "outputs": [
    {
     "name": "stdout",
     "output_type": "stream",
     "text": [
      "title\n",
      "Ramsès II\n",
      "title_detail\n",
      "{'type': 'text/plain', 'language': None, 'base': 'https://radiofrance-podcast.net/podcast09/rss_20108.xml', 'value': 'Ramsès II'}\n",
      "links\n",
      "[{'rel': 'alternate', 'type': 'text/html', 'href': 'https://www.radiofrance.fr/franceinter/podcasts/les-odyssees/ramses-ii-8432538'}, {'length': '15317676', 'type': 'audio/mpeg', 'href': 'https://rf.proxycast.org/2b11debe-28c4-4883-88a8-eadd8f247d8e/20108-15.02.2023-ITEMA_23243409-2023F35387E0004-21.mp3', 'rel': 'enclosure'}]\n",
      "link\n",
      "https://www.radiofrance.fr/franceinter/podcasts/les-odyssees/ramses-ii-8432538\n",
      "summary\n",
      "durée : 00:15:55 - Les Odyssées - par : Laure Grandbesançon. - Pharaon célèbre et adulé, Ramsès II est réputé pour ses victoires militaires et la construction de nombreux temples et statues... Et ça, partout en Egypte ! Découvre les incroyables aventures du pharaon le plus connu du monde !\n",
      "summary_detail\n",
      "{'type': 'text/html', 'language': None, 'base': 'https://radiofrance-podcast.net/podcast09/rss_20108.xml', 'value': 'durée : 00:15:55 - Les Odyssées - par : Laure Grandbesançon. - Pharaon célèbre et adulé, Ramsès II est réputé pour ses victoires militaires et la construction de nombreux temples et statues... Et ça, partout en Egypte\\xa0! Découvre les incroyables aventures du pharaon le plus connu du monde\\xa0!'}\n",
      "authors\n",
      "[{'name': 'Radio France', 'email': 'podcast@radiofrance.com'}, {'name': 'Laure Grandbesançon.'}]\n",
      "author\n",
      "Laure Grandbesançon.\n",
      "author_detail\n",
      "{'name': 'Radio France', 'email': 'podcast@radiofrance.com'}\n",
      "tags\n",
      "[{'term': 'Society & Culture', 'scheme': None, 'label': None}, {'term': 'Ramsès', 'scheme': 'http://www.itunes.com/', 'label': None}, {'term': 'II', 'scheme': 'http://www.itunes.com/', 'label': None}]\n",
      "id\n",
      "c75996f8-be81-4bb2-82a8-03a529ef8110\n",
      "guidislink\n",
      "False\n",
      "published\n",
      "Wed, 15 Feb 2023 09:00:03 +0100\n",
      "published_parsed\n",
      "time.struct_time(tm_year=2023, tm_mon=2, tm_mday=15, tm_hour=8, tm_min=0, tm_sec=3, tm_wday=2, tm_yday=46, tm_isdst=0)\n",
      "podcastrf_businessreference\n",
      "35387\n",
      "podcastrf_magnetothequeid\n",
      "2023F35387E0004\n",
      "itunes_title\n",
      "Ramsès II\n",
      "image\n",
      "{'href': 'https://www.radiofrance.fr/s3/cruiser-production/2019/07/9d4f9d47-679b-4546-8d26-c768ab84dc62/1400x1400_rf_omm_0000022609_ite.jpg'}\n",
      "itunes_explicit\n",
      "None\n",
      "subtitle\n",
      "Ramsès II\n",
      "subtitle_detail\n",
      "{'type': 'text/plain', 'language': None, 'base': 'https://radiofrance-podcast.net/podcast09/rss_20108.xml', 'value': 'Ramsès II'}\n",
      "content\n",
      "[{'type': 'text/plain', 'language': None, 'base': 'https://radiofrance-podcast.net/podcast09/rss_20108.xml', 'value': 'durée : 00:15:55 - Les Odyssées - par : Laure Grandbesançon. - Pharaon célèbre et adulé, Ramsès II est réputé pour ses victoires militaires et la construction de nombreux temples et statues... Et ça, partout en Egypte\\xa0! Découvre les incroyables aventures du pharaon le plus connu du monde\\xa0!'}]\n",
      "itunes_duration\n",
      "00:15:55\n",
      "googleplay_block\n",
      "yes\n"
     ]
    }
   ],
   "source": [
    "for key,value in news_feed.entries[0].items():\n",
    "    print(key)\n",
    "    print(value)\n",
    "    "
   ]
  },
  {
   "cell_type": "markdown",
   "id": "f56439fe-86c9-4fdc-98b7-a3930e429683",
   "metadata": {},
   "source": [
    "Example : \n",
    "links\n",
    "[{'rel': 'alternate', 'type': 'text/html', 'href': 'https://www.radiofrance.fr/franceinter/podcasts/les-odyssees/ramses-ii-8432538'}, {'length': '15317676', 'type': 'audio/mpeg', 'href': 'https://rf.proxycast.org/2b11debe-28c4-4883-88a8-eadd8f247d8e/20108-15.02.2023-ITEMA_23243409-2023F35387E0004-21.mp3', 'rel': 'enclosure'}]"
   ]
  },
  {
   "cell_type": "code",
   "execution_count": 44,
   "id": "05671acd-01ff-470f-a594-ba16281c9b1f",
   "metadata": {},
   "outputs": [
    {
     "name": "stdout",
     "output_type": "stream",
     "text": [
      "https://rf.proxycast.org/2b11debe-28c4-4883-88a8-eadd8f247d8e/20108-15.02.2023-ITEMA_23243409-2023F35387E0004-21.mp3\n"
     ]
    }
   ],
   "source": [
    "print(news_feed.entries[0]['links'][1]['href'])"
   ]
  },
  {
   "cell_type": "code",
   "execution_count": 46,
   "id": "4af31129-cf21-4ad6-a971-69f2eeee4e44",
   "metadata": {},
   "outputs": [
    {
     "name": "stdout",
     "output_type": "stream",
     "text": [
      "Ramsès II\n"
     ]
    }
   ],
   "source": [
    "print(news_feed.entries[0]['title'])"
   ]
  },
  {
   "cell_type": "code",
   "execution_count": 3,
   "id": "60497113-d1b5-410e-b678-d83c864638cb",
   "metadata": {},
   "outputs": [],
   "source": [
    "results_link = []\n",
    "for i,entry in enumerate(news_feed.entries):\n",
    "    results_link.append(news_feed.entries[i]['title'])\n",
    "    results_link.append(news_feed.entries[i]['links'][1]['href'])"
   ]
  },
  {
   "cell_type": "code",
   "execution_count": 72,
   "id": "6a20c3c8-f4e2-4030-b844-0ea69eec9057",
   "metadata": {},
   "outputs": [
    {
     "name": "stdout",
     "output_type": "stream",
     "text": [
      "111\n"
     ]
    }
   ],
   "source": [
    "print(len(results_link))"
   ]
  },
  {
   "cell_type": "code",
   "execution_count": 87,
   "id": "f27b65e3-e912-4a99-87f8-1d38f9581f83",
   "metadata": {},
   "outputs": [
    {
     "data": {
      "text/plain": [
       "['Ramsès II',\n",
       " 'https://rf.proxycast.org/2b11debe-28c4-4883-88a8-eadd8f247d8e/20108-15.02.2023-ITEMA_23243409-2023F35387E0004-21.mp3',\n",
       " 'Helen Keller',\n",
       " 'https://rf.proxycast.org/fafa25c2-58d3-48e5-bfeb-5277d1e9fbea/20108-15.02.2023-ITEMA_23243409-2023F35387E0003-21.mp3',\n",
       " 'La découverte de la grotte Cosquer',\n",
       " 'https://rf.proxycast.org/b3b43433-b641-4171-821e-8020b19d8936/20108-15.02.2023-ITEMA_23243409-2023F35387E0002-21.mp3']"
      ]
     },
     "execution_count": 87,
     "metadata": {},
     "output_type": "execute_result"
    }
   ],
   "source": [
    "results_link[0:6]"
   ]
  },
  {
   "cell_type": "markdown",
   "id": "f4b7c065-b3bd-4c6e-8e71-adfa31b38490",
   "metadata": {},
   "source": [
    "# Donwload"
   ]
  },
  {
   "cell_type": "code",
   "execution_count": 4,
   "id": "4e405e08-aeb7-42e9-b021-ffdb162dc41b",
   "metadata": {},
   "outputs": [],
   "source": [
    "import requests\n",
    "import os"
   ]
  },
  {
   "cell_type": "code",
   "execution_count": 5,
   "id": "9d247040-389b-4295-9834-8d10b23afdb3",
   "metadata": {},
   "outputs": [
    {
     "data": {
      "text/plain": [
       "'C:\\\\Users\\\\matin\\\\mp3'"
      ]
     },
     "execution_count": 5,
     "metadata": {},
     "output_type": "execute_result"
    }
   ],
   "source": [
    "os.getcwd()"
   ]
  },
  {
   "cell_type": "markdown",
   "id": "da8dd81f-fa41-41c7-959d-3525dd5f5f50",
   "metadata": {},
   "source": [
    "Check that : in title is making an issue ?\n",
    "eg. Rosalind Franklin  => title Rosalind Franklin : la femme qui a découvert le secret de l'ADN\n",
    "\n",
    "REPLACE all not ok character in the title string."
   ]
  },
  {
   "cell_type": "code",
   "execution_count": 11,
   "id": "a0cd7b8b-5d68-4e31-8cc4-399961203d78",
   "metadata": {
    "tags": []
   },
   "outputs": [
    {
     "name": "stdout",
     "output_type": "stream",
     "text": [
      "start\n",
      "downloaded item 0\n",
      "downloaded item 2\n",
      "downloaded item 4\n",
      "downloaded item 6\n",
      "downloaded item 8\n",
      "downloaded item 10\n",
      "downloaded item 12\n",
      "downloaded item 14\n",
      "downloaded item 16\n",
      "downloaded item 18\n",
      "downloaded item 20\n",
      "downloaded item 22\n",
      "downloaded item 24\n",
      "downloaded item 26\n",
      "downloaded item 28\n",
      "downloaded item 30\n",
      "downloaded item 32\n",
      "downloaded item 34\n",
      "downloaded item 36\n",
      "downloaded item 38\n",
      "downloaded item 40\n",
      "downloaded item 42\n",
      "downloaded item 44\n",
      "downloaded item 46\n",
      "downloaded item 48\n",
      "downloaded item 50\n",
      "downloaded item 52\n",
      "downloaded item 54\n",
      "downloaded item 56\n",
      "downloaded item 58\n",
      "downloaded item 60\n",
      "downloaded item 62\n",
      "downloaded item 64\n",
      "downloaded item 66\n",
      "downloaded item 68\n",
      "downloaded item 70\n",
      "downloaded item 72\n",
      "downloaded item 74\n",
      "downloaded item 76\n",
      "downloaded item 78\n",
      "downloaded item 80\n",
      "downloaded item 82\n",
      "downloaded item 84\n",
      "downloaded item 86\n",
      "downloaded item 88\n",
      "downloaded item 90\n",
      "downloaded item 92\n",
      "downloaded item 94\n",
      "downloaded item 96\n",
      "downloaded item 98\n",
      "downloaded item 100\n",
      "downloaded item 102\n",
      "downloaded item 104\n",
      "downloaded item 106\n",
      "downloaded item 108\n",
      "downloaded item 110\n",
      "end\n"
     ]
    }
   ],
   "source": [
    "print('start')\n",
    "for i in range(0,112,2):\n",
    "    name = results_link[i]\n",
    "    url = results_link[i+1]\n",
    "    r = requests.get(url, allow_redirects=True)\n",
    "    \n",
    "    #make the file name valid for windows user removing not alphanum character except \"dot\" and \"_\" underscore\n",
    "    validname = \"\".join( x for x in name if (x.isalnum() or x in \"._- \"))\n",
    "    \n",
    "    open(validname +'.mp3', 'wb').write(r.content)\n",
    "    print(f'downloaded item {i}')\n",
    "    \n",
    "print('end')\n",
    "    "
   ]
  },
  {
   "cell_type": "code",
   "execution_count": 8,
   "id": "9b9ed0b3-6ce0-46f1-b6a3-69acec01ae76",
   "metadata": {},
   "outputs": [
    {
     "name": "stdout",
     "output_type": "stream",
     "text": [
      "6\n",
      "8\n",
      "10\n",
      "12\n",
      "14\n",
      "16\n",
      "18\n"
     ]
    }
   ],
   "source": [
    "for i in range(6,20,2):\n",
    "    print(i)"
   ]
  },
  {
   "cell_type": "code",
   "execution_count": 11,
   "id": "a869b9f4-7dc4-4edf-9159-c962ad52fb53",
   "metadata": {},
   "outputs": [],
   "source": [
    "A = 'test'\n",
    "pre, ext = os.path.splitext(A)\n",
    "B = os.rename(pre,'test' + \".mp3\")\n"
   ]
  },
  {
   "cell_type": "markdown",
   "id": "129115ff-91df-4396-9d2c-817595105f86",
   "metadata": {},
   "source": [
    "Make the name a valide windows filenmae"
   ]
  },
  {
   "cell_type": "code",
   "execution_count": 8,
   "id": "15137b94-9c2e-4896-922b-c28fa6ec7b69",
   "metadata": {},
   "outputs": [
    {
     "name": "stdout",
     "output_type": "stream",
     "text": [
      "start\n",
      "Ramsès II\n",
      "Helen Keller\n",
      "La découverte de la grotte Cosquer\n",
      "Ching Shih la pirate chinoise\n",
      "Ramsès II raconté par Laure Grandbesançon\n",
      "Henri Guillaumet  héros de laéropostale\n",
      "Joséphine Baker\n",
      "À la recherche du monstre des profondeurs\n",
      "Elliot Ness contre Al Capone\n",
      "Vercingétorix contre César\n",
      "Rosalind Franklin la femme qui a découvert le secret de lADN\n",
      "Percy Fawcett et La mystérieuse cité de Z épisode 2\n",
      "Percy Fawcett et la mystérieuse cité de Z Episode 1\n",
      "Aladin et le sorcier maléfique\n",
      "Les 1001 nuits 44  Les trois princes amoureux\n",
      "Les 1001 nuits 34  Les  incroyables aventures de Sindbad le marin\n",
      "Aladin et le sorcier maléfique\n",
      "Les 1001 nuits 14  Shéhérazade conteuse de génie\n",
      "Yasuké le premier samouraï noir de lHistoire\n",
      "Laskarina Bouboulina héroïne de la résistance grecque\n",
      "Qui est Ötzi la momie des glaces\n",
      "Les Odyssées du Louvre 1515  Les Odyssées du Louvre Enquête autour de la fascinante Vénus de Milo\n",
      "Les Odyssées du Louvre 1415  Les Odyssées du Louvre  Eugène Delacroix grand peintre romantique\n",
      "Les Odyssées du Louvre 1315  Les Odyssées du Louvre  Champollion le génial déchiffreur des hiéroglyphes\n",
      "Les Odyssées du Louvre 1215  Les Odyssées du Louvre  Enheduanna première poétesse de lHistoire\n",
      "Les Odyssées du Louvre 1115  Les Odyssées du Louvre  Richelieu Le cardinal à la main de fer\n",
      "Les Odyssées sont de retour le 21 avril\n",
      "La puissante fée Morgane demi-soeur du valeureux roi Arthur\n",
      "LErebus et le Terror deux navires disparus dans les glaces de lArctique\n",
      "Lorsque la Résistance réussit le casse du siècle\n",
      "Lincroyable tour du monde de Nellie Bly\n",
      "Molière  naissance dun acteur Ep.1\n",
      "Molière  le plus fabuleux des auteurs  Ep.2\n",
      "Lady Stanhope une grande aventurière dans le désert du Liban\n",
      "Frida Kahlo  peindre la vie pour oublier la douleur\n",
      "Sitting Bull  le dernier indien libre des plaines\n",
      "Spartacus  lesclave qui fit trembler Rome\n",
      "Enquête sur les traces de Lucie le fantôme du château de Veauce\n",
      "Maurice et Katia Krafft  La passion des volcans épisode  2\n",
      "Maurice et Katia Krafft  La passion des volcans épisode 1\n",
      "A la recherche de David Livingstone\n",
      "Victorine Brocher héroïne de la Commune\n",
      "Jeanne Barret  la première femme qui a fait le tour du monde\n",
      "Les évadés dAlcatraz\n",
      "LIliade et lOdyssée 66  Les origines de la guerre de Troie\n",
      "LIliade et lOdyssée 56  Achille dépose les armes\n",
      "LIliade et lOdyssée 46  Achille retourne au combat\n",
      "LIliade et lOdyssée 36  Ulysse et Calypso\n",
      "LIliade et lOdyssée 26  Ulysse et le terrible cyclope\n",
      "LIliade et lOdyssée 16  Ulysse Circé et les sirènes\n",
      "Lincroyable vie dAlice Guy la première réalisatrice de cinéma de lhistoire\n",
      "Orson Welles et la guerre des Mondes  a-t-il vraiment fait paniquer lAmérique \n",
      "Plongée dans les abysses  le sous-marin Alvin découvre les sources hydrothermales\n",
      "Napoléon Ép1  à la conquête du pouvoir\n",
      "Napoléon Épisode 2 lEmpire\n",
      "Le Ballon de la liberté\n",
      "Jeanne dArc épisode 1  la jeune fille qui entendait des voix\n",
      "Jeanne dArc épisode 2  la pucelle chasse les Anglais hors de France\n",
      "La découverte du tombeau de Gengis Khan\n",
      "Mary Anning la chasseuse de fossiles\n",
      "Les Odyssées du Louvre 915  Les Odyssées du Louvre  Michel-Ange lartiste qui voulait repousser les limites\n",
      "Les Odyssées du Louvre 615  Les Odyssées du Louvre  Henri IV roi de France et de Navarre\n",
      "Les Odyssées du Louvre 715  Les Odyssées du Louvre  Jacques Jaujard le sauveur du Louvre\n",
      "Les Odyssées du Louvre 1015  Les Odyssées du Louvre  Marie de Médicis reine de France\n",
      "Les Odyssées du Louvre 815  Les Odyssées du Louvre  Pazuzu le roi des démons de lempire assyrien\n",
      "end\n"
     ]
    }
   ],
   "source": [
    "print('start')\n",
    "for i in range(0,130,2):\n",
    "    name = results_link[i]\n",
    "    validname = \"\".join( x for x in name if (x.isalnum() or x in \"._- \"))\n",
    "    print(validname)\n",
    "    \n",
    "print('end')\n"
   ]
  },
  {
   "cell_type": "code",
   "execution_count": null,
   "id": "7cff73cc-0f40-4fe1-83a3-8e6bc7d2ce43",
   "metadata": {},
   "outputs": [],
   "source": []
  }
 ],
 "metadata": {
  "kernelspec": {
   "display_name": "Python 3 (ipykernel)",
   "language": "python",
   "name": "python3"
  },
  "language_info": {
   "codemirror_mode": {
    "name": "ipython",
    "version": 3
   },
   "file_extension": ".py",
   "mimetype": "text/x-python",
   "name": "python",
   "nbconvert_exporter": "python",
   "pygments_lexer": "ipython3",
   "version": "3.9.13"
  }
 },
 "nbformat": 4,
 "nbformat_minor": 5
}
